{
 "cells": [
  {
   "cell_type": "markdown",
   "metadata": {
    "id": "vSlRv-Eczy9L"
   },
   "source": [
    "# Building Agents That Use Code\n",
    "\n",
    "This notebook is part of the [Hugging Face Agents Course](https://www.hf.co/learn/agents-course), a free Course from beginner to expert, where you learn to build Agents.\n",
    "\n",
    "![Agents course share](https://huggingface.co/datasets/agents-course/course-images/resolve/main/en/communication/share.png)\n",
    "\n",
    "Alfred is planning a party at the Wayne family mansion and needs your help to ensure everything goes smoothly. To assist him, we'll apply what we've learned about how a multi-step `CodeAgent` operates.\n"
   ]
  },
  {
   "cell_type": "markdown",
   "metadata": {
    "id": "fXCVEZC2z3Pf"
   },
   "source": [
    "## Let's install the dependencies and login to our HF account to access the Inference API\n",
    "\n",
    "If you haven't installed `smolagents` yet, you can do so by running the following command:"
   ]
  },
  {
   "cell_type": "code",
   "execution_count": null,
   "metadata": {
    "colab": {
     "base_uri": "https://localhost:8080/"
    },
    "id": "u8AXJMCnxm6C",
    "outputId": "ca6212d7-6f8b-48fe-d84a-6e301e4d69cd"
   },
   "outputs": [],
   "source": [
    "!pip install smolagents -U"
   ]
  },
  {
   "cell_type": "markdown",
   "metadata": {
    "id": "hcfn1TDmVqqg"
   },
   "source": [
    "Let's also login to the Hugging Face Hub to have access to the Inference API."
   ]
  },
  {
   "cell_type": "code",
   "execution_count": null,
   "metadata": {
    "colab": {
     "base_uri": "https://localhost:8080/",
     "height": 17,
     "referenced_widgets": [
      "55a538b8ddb149ee8b6bee8bc254aaef",
      "4735e01e611a40448803e7f09ae1e6ea",
      "8805fb6ec0c840c0a8225abf802dfde0",
      "f31ba97138f142f28065a02c1389883c",
      "6a62348dcba94e3b94dc1f3402ca84fe",
      "d2e48f62bd8c4cc689ea9f71745c3853",
      "963f19b4c9414acd8a1e253120f68229",
      "32933a15c5eb4dd1b4b10955c18b3a47",
      "a0576c126ab34516909395a4eb78a1ed",
      "f229269d243a43fe9717fa1281d16f40",
      "3f5145802bef4b459dfae6e15b2b403e",
      "653eaf21bb9648a7bfad9c4b44d232f6",
      "23214f7ca41d495c9035028130a73fcc",
      "0f60636565894429ae4c94e99c9ceb56",
      "01174c2118044a82aba322a19020c62f",
      "a007c3a8e3454984a550ad07c4461ae4",
      "33a04ae6e9764267ac7455547d77bf8a",
      "b4bda27d58534c189d72a6b9f28ed251",
      "7a74f2057d1d44379706c9e5fbb84bb9",
      "1a24c4161ecf4bbe9ed688ed175c0169"
     ]
    },
    "id": "3TuJYDo2yGZP",
    "outputId": "a09efb55-f32b-4378-a8c8-719fa6abe88b"
   },
   "outputs": [],
   "source": [
    "from huggingface_hub import notebook_login\n",
    "\n",
    "notebook_login()"
   ]
  },
  {
   "cell_type": "markdown",
   "metadata": {
    "id": "VcFo_ztwyVA7"
   },
   "source": [
    "## Selecting a Playlist for the Party Using `smolagents`\n",
    "\n",
    "An important part of a successful party is the music. Alfred needs some help selecting the playlist. Luckily, `smolagents` has got us covered! We can build an agent capable of searching the web using DuckDuckGo. To give the agent access to this tool, we include it in the tool list when creating the agent.\n",
    "\n",
    "For the model, we'll rely on `InferenceClientModel`, which provides access to Hugging Face's [Inference API](https://huggingface.co/docs/api-inference/index). The default model is `\"Qwen/Qwen2.5-Coder-32B-Instruct\"`, which is performant and available for fast inference, but you can select any compatible model from the Hub.\n",
    "\n",
    "Running an agent is quite straightforward:"
   ]
  },
  {
   "cell_type": "code",
   "execution_count": null,
   "metadata": {
    "colab": {
     "base_uri": "https://localhost:8080/"
    },
    "id": "gDJT5cP-Sd21",
    "outputId": "63329557-c6bb-4ab0-955b-03d6098f7161"
   },
   "outputs": [],
   "source": [
    "!pip install duckduckgo-search"
   ]
  },
  {
   "cell_type": "code",
   "execution_count": null,
   "metadata": {
    "colab": {
     "base_uri": "https://localhost:8080/",
     "height": 1000
    },
    "id": "DeBvQBEpx-VO",
    "outputId": "dc6d5408-b3ae-4d6b-cacf-9cb0fbeea0b1"
   },
   "outputs": [],
   "source": [
    "from smolagents import CodeAgent, DuckDuckGoSearchTool, InferenceClientModel\n",
    "\n",
    "agent = CodeAgent(tools=[DuckDuckGoSearchTool()], model=InferenceClientModel())\n",
    "\n",
    "agent.run(\"Search for the best music recommendations for a party at the Wayne's mansion.\")"
   ]
  },
  {
   "cell_type": "markdown",
   "metadata": {
    "id": "waE-prPUVzrh"
   },
   "source": [
    "When you run this example, the output will **display a trace of the workflow steps being executed**. It will also print the corresponding Python code with the message:\n",
    "\n",
    "```python\n",
    " ─ Executing parsed code: ────────────────────────────────────────────────────────────────────────────────────────\n",
    "  results = web_search(query=\"best music for a Batman party\")                                                      \n",
    "  print(results)                                                                                                   \n",
    " ─────────────────────────────────────────────────────────────────────────────────────────────────────────────────\n",
    "```\n",
    "\n",
    "After a few steps, you'll see the generated playlist that Alfred can use for the party! 🎵"
   ]
  },
  {
   "cell_type": "markdown",
   "metadata": {
    "id": "-d9XLJkfyiNQ"
   },
   "source": [
    "## Using a Custom Tool to Prepare the Menu\n",
    "\n",
    "Now that we have selected a playlist, we need to organize the menu for the guests. Again, Alfred can take advantage of `smolagents` to do so. Here, we use the `@tool` decorator to define a custom function that acts as a tool. We'll cover tool creation in more detail later, so for now, we can simply run the code.\n",
    "\n",
    "As you can see in the example below, we will create a tool using `@tool` decorator and include it in the `tools` list."
   ]
  },
  {
   "cell_type": "code",
   "execution_count": null,
   "metadata": {
    "colab": {
     "base_uri": "https://localhost:8080/",
     "height": 228
    },
    "id": "K2oN9pagyhFX",
    "outputId": "d0999020-2219-47e3-ac9c-8a36bb7deb71"
   },
   "outputs": [],
   "source": [
    "from smolagents import CodeAgent, tool\n",
    "\n",
    "@tool\n",
    "def suggest_menu(occasion: str) -> str:\n",
    "    \"\"\"\n",
    "    Suggests a menu based on the occasion.\n",
    "    Args:\n",
    "        occasion (str): The type of occasion for the party. Allowed values are:\n",
    "                        - \"casual\": Menu for casual party.\n",
    "                        - \"formal\": Menu for formal party.\n",
    "                        - \"superhero\": Menu for superhero party.\n",
    "                        - \"custom\": Custom menu.\n",
    "    \"\"\"\n",
    "    if occasion == \"casual\":\n",
    "        return \"Pizza, snacks, and drinks.\"\n",
    "    elif occasion == \"formal\":\n",
    "        return \"3-course dinner with wine and dessert.\"\n",
    "    elif occasion == \"superhero\":\n",
    "        return \"Buffet with high-energy and healthy food.\"\n",
    "    else:\n",
    "        return \"Custom menu for the butler.\"\n",
    "\n",
    "agent = CodeAgent(tools=[suggest_menu], model=InferenceClientModel())\n",
    "\n",
    "agent.run(\"Prepare a formal menu for the party.\")"
   ]
  },
  {
   "cell_type": "markdown",
   "metadata": {
    "id": "QZmuYtGPWKfO"
   },
   "source": [
    "The agent will run for a few steps until finding the answer.\n",
    "\n",
    "The menu is ready! 🥗"
   ]
  },
  {
   "cell_type": "markdown",
   "metadata": {
    "id": "0jrMJssQy-xr"
   },
   "source": [
    "## Using Python Imports Inside the Agent\n",
    "\n",
    "We have the playlist and menu ready, but we need to check one more crucial detail: preparation time!\n",
    "\n",
    "Alfred needs to calculate when everything would be ready if he started preparing now, in case they need assistance from other superheroes.\n",
    "\n",
    "`smolagents` specializes in agents that write and execute Python code snippets, offering sandboxed execution for security. It supports both open-source and proprietary language models, making it adaptable to various development environments.\n",
    "\n",
    "**Code execution has strict security measures** - imports outside a predefined safe list are blocked by default. However, you can authorize additional imports by passing them as strings in `additional_authorized_imports`.\n",
    "For more details on secure code execution, see the official [guide](https://huggingface.co/docs/smolagents/tutorials/secure_code_execution).\n",
    "\n",
    "When creating the agent, we ill use `additional_authorized_imports` to allow for importing the `datetime` module."
   ]
  },
  {
   "cell_type": "code",
   "execution_count": null,
   "metadata": {
    "colab": {
     "base_uri": "https://localhost:8080/",
     "height": 756
    },
    "id": "_3-2KZMny-8z",
    "outputId": "f7b67639-4a6b-493a-9e7c-95357186edfc"
   },
   "outputs": [],
   "source": [
    "from smolagents import CodeAgent, InferenceClientModel\n",
    "import numpy as np\n",
    "import time\n",
    "import datetime\n",
    "\n",
    "# adding below code to see if timeout error can be removed\n",
    "# model.generate(..., max_new_tokens=100, temperature=0.7)\n",
    "\n",
    "agent = CodeAgent(tools=[], model=InferenceClientModel(), additional_authorized_imports=['datetime'])\n",
    "\n",
    "agent.run(\n",
    "    \"\"\"\n",
    "    Alfred needs to prepare for the party. Here are the tasks:\n",
    "    1. Prepare the drinks - 30 minutes\n",
    "    2. Decorate the mansion - 60 minutes\n",
    "    3. Set up the menu - 45 minutes\n",
    "    3. Prepare the music and playlist - 45 minutes\n",
    "\n",
    "    If we start right now, at what time will the party be ready?\n",
    "    \"\"\"\n",
    ")"
   ]
  },
  {
   "cell_type": "markdown",
   "metadata": {
    "id": "T7pLiWCcWSsU"
   },
   "source": [
    "These examples are just the beginning of what you can do with code agents, and we're already starting to see their utility for preparing the party.\n",
    "You can learn more about how to build code agents in the [smolagents documentation](https://huggingface.co/docs/smolagents).\n",
    "\n",
    "`smolagents` specializes in agents that write and execute Python code snippets, offering sandboxed execution for security. It supports both open-source and proprietary language models, making it adaptable to various development environments."
   ]
  },
  {
   "cell_type": "markdown",
   "metadata": {
    "id": "9UK049QDQjsB"
   },
   "source": [
    "## Sharing Our Custom Party Preparator Agent to the Hub\n",
    "\n",
    "Wouldn't it be **amazing to share our very own Alfred agent with the community**? By doing so, anyone can easily download and use the agent directly from the Hub, bringing the ultimate party planner of Gotham to their fingertips! Let's make it happen! 🎉\n",
    "\n",
    "The `smolagents` library makes this possible by allowing you to share a complete agent with the community and download others for immediate use. It's as simple as the following:\n"
   ]
  },
  {
   "cell_type": "code",
   "execution_count": null,
   "metadata": {
    "colab": {
     "base_uri": "https://localhost:8080/",
     "height": 1000
    },
    "id": "uQuWg8TDRYQD",
    "outputId": "33970e34-0866-4c64-e388-f57175e7252e"
   },
   "outputs": [],
   "source": [
    "from smolagents import CodeAgent, DuckDuckGoSearchTool, InferenceClientModel, VisitWebpageTool, FinalAnswerTool, Tool, tool\n",
    "\n",
    "@tool\n",
    "def suggest_menu(occasion: str) -> str:\n",
    "    \"\"\"\n",
    "    Suggests a menu based on the occasion.\n",
    "    Args:\n",
    "        occasion: The type of occasion for the party.\n",
    "    \"\"\"\n",
    "    if occasion == \"casual\":\n",
    "        return \"Pizza, snacks, and drinks.\"\n",
    "    elif occasion == \"formal\":\n",
    "        return \"3-course dinner with wine and dessert.\"\n",
    "    elif occasion == \"superhero\":\n",
    "        return \"Buffet with high-energy and healthy food.\"\n",
    "    else:\n",
    "        return \"Custom menu for the butler.\"\n",
    "\n",
    "@tool\n",
    "def catering_service_tool(query: str) -> str:\n",
    "    \"\"\"\n",
    "    This tool returns the highest-rated catering service in Gotham City.\n",
    "\n",
    "    Args:\n",
    "        query: A search term for finding catering services.\n",
    "    \"\"\"\n",
    "    # Example list of catering services and their ratings\n",
    "    services = {\n",
    "        \"Gotham Catering Co.\": 4.9,\n",
    "        \"Wayne Manor Catering\": 4.8,\n",
    "        \"Gotham City Events\": 4.7,\n",
    "    }\n",
    "\n",
    "    # Find the highest rated catering service (simulating search query filtering)\n",
    "    best_service = max(services, key=services.get)\n",
    "\n",
    "    return best_service\n",
    "\n",
    "class SuperheroPartyThemeTool(Tool):\n",
    "    name = \"superhero_party_theme_generator\"\n",
    "    description = \"\"\"\n",
    "    This tool suggests creative superhero-themed party ideas based on a category.\n",
    "    It returns a unique party theme idea.\"\"\"\n",
    "\n",
    "    inputs = {\n",
    "        \"category\": {\n",
    "            \"type\": \"string\",\n",
    "            \"description\": \"The type of superhero party (e.g., 'classic heroes', 'villain masquerade', 'futuristic gotham').\",\n",
    "        }\n",
    "    }\n",
    "\n",
    "    output_type = \"string\"\n",
    "\n",
    "    def forward(self, category: str):\n",
    "        themes = {\n",
    "            \"classic heroes\": \"Justice League Gala: Guests come dressed as their favorite DC heroes with themed cocktails like 'The Kryptonite Punch'.\",\n",
    "            \"villain masquerade\": \"Gotham Rogues' Ball: A mysterious masquerade where guests dress as classic Batman villains.\",\n",
    "            \"futuristic gotham\": \"Neo-Gotham Night: A cyberpunk-style party inspired by Batman Beyond, with neon decorations and futuristic gadgets.\"\n",
    "        }\n",
    "\n",
    "        return themes.get(category.lower(), \"Themed party idea not found. Try 'classic heroes', 'villain masquerade', or 'futuristic gotham'.\")\n",
    "\n",
    "\n",
    "# Alfred, the butler, preparing the menu for the party\n",
    "agent = CodeAgent(\n",
    "    tools=[\n",
    "        DuckDuckGoSearchTool(),\n",
    "        VisitWebpageTool(),\n",
    "        suggest_menu,\n",
    "        catering_service_tool,\n",
    "        SuperheroPartyThemeTool()\n",
    "        ],\n",
    "    model=InferenceClientModel(),\n",
    "    max_steps=10,\n",
    "    verbosity_level=2\n",
    ")\n",
    "\n",
    "agent.run(\"Give me best playlist for a party at the Wayne's mansion. The party idea is a 'villain masquerade' theme\")"
   ]
  },
  {
   "cell_type": "code",
   "execution_count": null,
   "metadata": {
    "colab": {
     "base_uri": "https://localhost:8080/",
     "height": 119,
     "referenced_widgets": [
      "1269cfc19ebd4098afe7c383952323e4",
      "d0f037441e394ae4b125e56d2fa1ad28",
      "a58025e3cada41fba714ba519652a703",
      "bb61fb617c054ce1b788c62072c5b075",
      "4f5e23c505594878a348f866d9933df3",
      "23184f4b513e4b74b4a85c249e3edacc",
      "7f7783e2d8794a448395034b57054564",
      "c6bfa62c9424475b8326557645456d5b",
      "2efa342a5b3645c89391db19a68cca9f",
      "6056035cc8ab45398e4a182d783411bf",
      "e6d7852999c34366a0c3242afc9a2c81"
     ]
    },
    "id": "kDskouXzRdIi",
    "outputId": "40bd1e4c-0427-4aea-9f17-fdd551532069"
   },
   "outputs": [],
   "source": [
    "agent.push_to_hub('amarnaik/AlfredAgent')"
   ]
  },
  {
   "cell_type": "markdown",
   "metadata": {
    "id": "3iPLK1IQWguH"
   },
   "source": [
    "To download the agent again, use the code below:"
   ]
  },
  {
   "cell_type": "code",
   "execution_count": null,
   "metadata": {
    "colab": {
     "base_uri": "https://localhost:8080/",
     "height": 212,
     "referenced_widgets": [
      "5e507287ed21451f94498028398a5ee1",
      "8f169c7b98a24618a180fed59a6425a8",
      "39d473b784be46c0b39433a21fda2557",
      "527baf4cad574dae9d1320e36c3017fb",
      "db4477c8b2314850b3826d611d736210",
      "e97a1629da9246a8aa66c03918679658",
      "d5390d26b2af4bc6ba1e9409af704256",
      "13948f09c3a448888c9a37219a482c34",
      "87a2cac9166548b684a512ac99c7e825",
      "da22597cbabf4bca8326a501e4b64fd6",
      "08a04eaa563a457cb1cfdfa4e930ccf1"
     ]
    },
    "id": "WB4tMMGHReYI",
    "outputId": "a9dfbdfc-ff49-49e5-d2a3-2be06582e28a"
   },
   "outputs": [],
   "source": [
    "!pip install markdownify #added the below because got a error ModuleNotFoundError: No module named 'markdownify'\n",
    "agent = CodeAgent(tools=[], model=InferenceClientModel())\n",
    "alfred_agent = agent.from_hub('amarnaik/AlfredAgent', trust_remote_code=True)"
   ]
  },
  {
   "cell_type": "code",
   "execution_count": null,
   "metadata": {
    "colab": {
     "base_uri": "https://localhost:8080/",
     "height": 1000
    },
    "id": "PTTBVyESRgF6",
    "outputId": "933a2138-7cf5-480e-9fb5-c036ada0c4d6"
   },
   "outputs": [],
   "source": [
    "alfred_agent.run(\"Give me best playlist for a party at the Wayne's mansion. The party idea is a 'villain masquerade' theme\")"
   ]
  },
  {
   "cell_type": "markdown",
   "metadata": {
    "id": "qz-vwxu9Wobn"
   },
   "source": [
    "What's also exciting is that shared agents are directly available as Hugging Face Spaces, allowing you to interact with them in real-time. You can explore other agents [here](https://huggingface.co/spaces/davidberenstein1957/smolagents-and-tools).\n",
    "\n",
    "For example, the _AlfredAgent_ is available [here](https://huggingface.co/spaces/sergiopaniego/AlfredAgent)."
   ]
  },
  {
   "cell_type": "markdown",
   "metadata": {
    "id": "wxWcQqkYl1Pm"
   },
   "source": [
    "### Inspecting Our Party Preparator Agent with OpenTelemetry and Langfuse 📡\n",
    "\n",
    "Full trace can be found [here](https://cloud.langfuse.com/project/cm7bq0abj025rad078ak3luwi/traces/995fc019255528e4f48cf6770b0ce27b?timestamp=2025-02-19T10%3A28%3A36.929Z).\n",
    "\n",
    "As Alfred fine-tunes the Party Preparator Agent, he's growing weary of debugging its runs. Agents, by nature, are unpredictable and difficult to inspect. But since he aims to build the ultimate Party Preparator Agent and deploy it in production, he needs robust traceability for future monitoring and analysis.  \n",
    "\n",
    "Once again, `smolagents` comes to the rescue! It embraces the [OpenTelemetry](https://opentelemetry.io/) standard for instrumenting agent runs, allowing seamless inspection and logging. With the help of [Langfuse](https://langfuse.com/) and the `SmolagentsInstrumentor`, Alfred can easily track and analyze his agent’s behavior.  \n",
    "\n",
    "Setting it up is straightforward!  \n",
    "\n",
    "First, we need to install the necessary dependencies:  "
   ]
  },
  {
   "cell_type": "code",
   "execution_count": null,
   "metadata": {
    "colab": {
     "base_uri": "https://localhost:8080/"
    },
    "id": "CTtNDFOMl3BM",
    "outputId": "fe60660a-8884-4a52-b34c-c2bb3adb4ff9"
   },
   "outputs": [],
   "source": [
    "!pip install smolagents[telemetry] opentelemetry-sdk opentelemetry-exporter-otlp openinference-instrumentation-smolagents"
   ]
  },
  {
   "cell_type": "markdown",
   "metadata": {
    "id": "IVBwrNgbXPS-"
   },
   "source": [
    "Next, Alfred has already created an account on Langfuse and has his API keys ready. If you haven’t done so yet, you can sign up for Langfuse Cloud [here](https://cloud.langfuse.com/) or explore [alternatives](https://huggingface.co/docs/smolagents/tutorials/inspect_runs).  \n",
    "\n",
    "Once you have your API keys, they need to be properly configured as follows:"
   ]
  },
  {
   "cell_type": "code",
   "execution_count": null,
   "metadata": {
    "id": "9mJfphSMnGwZ"
   },
   "outputs": [],
   "source": [
    "import os\n",
    "import base64\n",
    "from google.colab import userdata\n",
    "\n",
    "LANGFUSE_PUBLIC_KEY=userdata.get(\"LANGFUSE_PUBLIC_KEY\")\n",
    "LANGFUSE_SECRET_KEY=userdata.get(\"LANGFUSE_SECRET_KEY\")\n",
    "LANGFUSE_AUTH=base64.b64encode(f\"{LANGFUSE_PUBLIC_KEY}:{LANGFUSE_SECRET_KEY}\".encode()).decode()\n",
    "\n",
    "os.environ[\"OTEL_EXPORTER_OTLP_ENDPOINT\"] = \"https://cloud.langfuse.com/api/public/otel\" # EU data region\n",
    "# os.environ[\"OTEL_EXPORTER_OTLP_ENDPOINT\"] = \"https://us.cloud.langfuse.com/api/public/otel\" # US data region\n",
    "os.environ[\"OTEL_EXPORTER_OTLP_HEADERS\"] = f\"Authorization=Basic {LANGFUSE_AUTH}\""
   ]
  },
  {
   "cell_type": "markdown",
   "metadata": {
    "id": "ZIRRj-PJXRGH"
   },
   "source": [
    "Finally, Alfred is ready to initialize the `SmolagentsInstrumentor` and start tracking his agent's performance.  "
   ]
  },
  {
   "cell_type": "code",
   "execution_count": null,
   "metadata": {
    "id": "kmQdrMK_nyU0"
   },
   "outputs": [],
   "source": [
    "from opentelemetry.sdk.trace import TracerProvider\n",
    "\n",
    "from openinference.instrumentation.smolagents import SmolagentsInstrumentor\n",
    "from opentelemetry.exporter.otlp.proto.http.trace_exporter import OTLPSpanExporter\n",
    "from opentelemetry.sdk.trace.export import SimpleSpanProcessor\n",
    "\n",
    "trace_provider = TracerProvider()\n",
    "trace_provider.add_span_processor(SimpleSpanProcessor(OTLPSpanExporter()))\n",
    "\n",
    "SmolagentsInstrumentor().instrument(tracer_provider=trace_provider)"
   ]
  },
  {
   "cell_type": "markdown",
   "metadata": {
    "id": "B0oLBr_qXSjA"
   },
   "source": [
    "Alfred is now connected 🔌! The runs from `smolagents` are being logged in Langfuse, giving him full visibility into the agent's behavior. With this setup, he's ready to revisit previous runs and refine his Party Preparator Agent even further.  "
   ]
  },
  {
   "cell_type": "code",
   "execution_count": null,
   "metadata": {
    "colab": {
     "base_uri": "https://localhost:8080/",
     "height": 1000,
     "referenced_widgets": [
      "9c802ce106b2409796460ad574993925",
      "bb45240466d6478cbc25f87913a973ce",
      "de523e4c3a9e484aa97d90074a08f03f",
      "cee1a8efbe9b4286b0ba8edb10fa906f",
      "3fe49cb03f004481860afd788eacf594",
      "d1ce37dc3afe42a7b247b94c1ee9eea5",
      "2d2e3bf14a204f86bd01a952c1fff3c5",
      "c5f8bed892ea40cf9618b33c30e1d67f",
      "69ef6ebb2ca84753a89c841b191ee26d",
      "72bbbe1e6f9b4669bbb77b808ff6d443",
      "7f11b6426cbe4a279a4670502e583002"
     ]
    },
    "id": "3Oer9q0AoG28",
    "outputId": "0dd28869-8ac4-4718-e206-e36346a7dc01"
   },
   "outputs": [],
   "source": [
    "#add your \"amarnaik/AlfredAgent\" space below. Before this got error AgentGenerationError: Error in generating model output: InferenceClient.chat_completion() got an unexpected keyword argument 'last_input_token_count\n",
    "from smolagents import CodeAgent, InferenceClientModel\n",
    "\n",
    "agent = CodeAgent(tools=[], model=InferenceClientModel())\n",
    "alfred_agent = agent.from_hub('amarnaik/AlfredAgent', trust_remote_code=True)\n",
    "alfred_agent.run(\"Give me best playlist for a party at the Wayne's mansion. The party idea is a 'villain masquerade' theme\")"
   ]
  },
  {
   "cell_type": "markdown",
   "metadata": {
    "id": "KBpqTBK1XVLz"
   },
   "source": [
    "Alfred can now access this logs [here](https://cloud.langfuse.com/project/cm7bq0abj025rad078ak3luwi/traces/995fc019255528e4f48cf6770b0ce27b?timestamp=2025-02-19T10%3A28%3A36.929Z) to review and analyze them.  \n",
    "\n",
    "Meanwhile, the [suggested playlist](https://open.spotify.com/playlist/0gZMMHjuxMrrybQ7wTMTpw) sets the perfect vibe for the party preparations. Cool, right? 🎶\n"
   ]
  },
  {
   "cell_type": "code",
   "execution_count": null,
   "metadata": {
    "colab": {
     "base_uri": "https://localhost:8080/",
     "height": 38
    },
    "id": "sUbx4V2fkYXG",
    "outputId": "0f406352-6138-45f5-e727-e081f27f85b4"
   },
   "outputs": [],
   "source": [
    "from google.colab import files\n",
    "uploaded = files.upload()"
   ]
  },
  {
   "cell_type": "code",
   "execution_count": null,
   "metadata": {
    "colab": {
     "base_uri": "https://localhost:8080/"
    },
    "id": "HwgED0R6gOo-",
    "outputId": "0e8ac943-631c-4d25-f0c1-e43c92c45369"
   },
   "outputs": [],
   "source": [
    "''' adding the below code to remove the below error while copying this file from collab to github Invalid Notebook\n",
    "There was an error rendering your Notebook: the 'state' key is missing from 'metadata.widgets'. Add 'state' to each, or remove 'metadata.widgets'.\n",
    "Using nbformat v5.10.4 and nbconvert v7.16.6\n",
    "'''\n",
    "!pip install nbstripout\n",
    "!nbstripout \"Copy_of_code_agents.ipynb\""
   ]
  },
  {
   "cell_type": "code",
   "execution_count": null,
   "metadata": {
    "id": "6M1tpshTguw0"
   },
   "outputs": [],
   "source": []
  }
 ],
 "metadata": {
  "colab": {
   "provenance": []
  },
  "kernelspec": {
   "display_name": "Python 3",
   "name": "python3"
  },
  "language_info": {
   "name": "python"
  }
 },
 "nbformat": 4,
 "nbformat_minor": 0
}
